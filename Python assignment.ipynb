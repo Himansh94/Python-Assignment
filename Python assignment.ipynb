{
 "cells": [
  {
   "cell_type": "code",
   "execution_count": 3,
   "id": "2b0e9ed7",
   "metadata": {},
   "outputs": [
    {
     "name": "stdout",
     "output_type": "stream",
     "text": [
      "15\n"
     ]
    }
   ],
   "source": [
    "1.) def func(a, b):\n",
    " return b if a == 0 else func(b % a, a)\n",
    "print(func(30, 75))"
   ]
  },
  {
   "cell_type": "code",
   "execution_count": 4,
   "id": "6a16f53d",
   "metadata": {},
   "outputs": [
    {
     "name": "stdout",
     "output_type": "stream",
     "text": [
      "<class 'filter'>\n"
     ]
    }
   ],
   "source": [
    "2.) numbers = (4, 7, 19, 2, 89, 45, 72, 22)\n",
    "sorted_numbers = sorted(numbers)\n",
    "even = lambda a: a % 2 == 0\n",
    "even_numbers = filter(even, sorted_numbers)\n",
    "print(type(even_numbers))"
   ]
  },
  {
   "cell_type": "code",
   "execution_count": null,
   "id": "aeb64428",
   "metadata": {},
   "outputs": [],
   "source": [
    "3.) #As what datatype are the *args stored, when passed into = Tuples"
   ]
  },
  {
   "cell_type": "code",
   "execution_count": 6,
   "id": "899fd2ee",
   "metadata": {},
   "outputs": [
    {
     "ename": "TypeError",
     "evalue": "unsupported operand type(s) for +: 'set' and 'set'",
     "output_type": "error",
     "traceback": [
      "\u001b[1;31m---------------------------------------------------------------------------\u001b[0m",
      "\u001b[1;31mTypeError\u001b[0m                                 Traceback (most recent call last)",
      "Cell \u001b[1;32mIn[6], line 4\u001b[0m\n\u001b[0;32m      2\u001b[0m set2 \u001b[38;5;241m=\u001b[39m {\u001b[38;5;241m82\u001b[39m, \u001b[38;5;241m49\u001b[39m, \u001b[38;5;241m62\u001b[39m}\n\u001b[0;32m      3\u001b[0m set3 \u001b[38;5;241m=\u001b[39m {\u001b[38;5;241m99\u001b[39m, \u001b[38;5;241m22\u001b[39m, \u001b[38;5;241m17\u001b[39m}\n\u001b[1;32m----> 4\u001b[0m \u001b[38;5;28mprint\u001b[39m(\u001b[38;5;28mlen\u001b[39m(\u001b[43mset1\u001b[49m\u001b[43m \u001b[49m\u001b[38;5;241;43m+\u001b[39;49m\u001b[43m \u001b[49m\u001b[43mset2\u001b[49m \u001b[38;5;241m+\u001b[39m set3))\n",
      "\u001b[1;31mTypeError\u001b[0m: unsupported operand type(s) for +: 'set' and 'set'"
     ]
    }
   ],
   "source": [
    "4.) set1 = {14, 3, 55}\n",
    "set2 = {82, 49, 62}\n",
    "set3 = {99, 22, 17}\n",
    "print(len(set1 + set2 + set3))"
   ]
  },
  {
   "cell_type": "code",
   "execution_count": null,
   "id": "6678501b",
   "metadata": {},
   "outputs": [],
   "source": [
    "5.) # What keyword is used in Python to raise exceptions? = Raise"
   ]
  },
  {
   "cell_type": "code",
   "execution_count": null,
   "id": "a49d5176",
   "metadata": {},
   "outputs": [],
   "source": [
    "6.) # Which of the following modules need to be imported to handle date time computations in Python? = timedate"
   ]
  },
  {
   "cell_type": "code",
   "execution_count": 7,
   "id": "2faa0657",
   "metadata": {},
   "outputs": [
    {
     "name": "stdout",
     "output_type": "stream",
     "text": [
      "208\n"
     ]
    }
   ],
   "source": [
    "7.) print(4**3 + (7 + 5)**(1 + 1))"
   ]
  },
  {
   "cell_type": "code",
   "execution_count": null,
   "id": "fcf98d3c",
   "metadata": {},
   "outputs": [],
   "source": [
    "8.) # Which of the following functions converts date to corresponding time in Python? = c) both a) and b)"
   ]
  },
  {
   "cell_type": "code",
   "execution_count": null,
   "id": "8a30b62b",
   "metadata": {},
   "outputs": [],
   "source": [
    "9.) # The python tuple is IMMUTABLE in nature"
   ]
  },
  {
   "cell_type": "code",
   "execution_count": 9,
   "id": "e0aa0ccc",
   "metadata": {},
   "outputs": [],
   "source": [
    "10.) # The ___ is a built-in function that returns a range object that consists series of integer numbers,\n",
    "which we can iterate using a for loop = Range()"
   ]
  },
  {
   "cell_type": "code",
   "execution_count": null,
   "id": "4e1f2abe",
   "metadata": {},
   "outputs": [],
   "source": [
    "11.) # Amongst which of the following is a function which does not have any name? = None of the above"
   ]
  },
  {
   "cell_type": "code",
   "execution_count": null,
   "id": "20e5af23",
   "metadata": {},
   "outputs": [],
   "source": [
    "12.) # The module Pickle is used to ___.= C) both A and B"
   ]
  },
  {
   "cell_type": "code",
   "execution_count": null,
   "id": "89c66547",
   "metadata": {},
   "outputs": [],
   "source": [
    "13.) # Amongst which of the following is / are the method of convert Python objects for writing data in  a binary file? = dump()"
   ]
  },
  {
   "cell_type": "code",
   "execution_count": null,
   "id": "22baa8b7",
   "metadata": {},
   "outputs": [],
   "source": [
    "14.) # Amongst which of the following is / are the method used to unpickling data from a binary file? set() Method"
   ]
  },
  {
   "cell_type": "code",
   "execution_count": null,
   "id": "d09704cc",
   "metadata": {},
   "outputs": [],
   "source": [
    "15.) # A text file contains only textual information consisting of = D.. All of the mentioned above"
   ]
  },
  {
   "cell_type": "code",
   "execution_count": 10,
   "id": "587ce559",
   "metadata": {},
   "outputs": [
    {
     "ename": "SyntaxError",
     "evalue": "invalid syntax (2624661643.py, line 7)",
     "output_type": "error",
     "traceback": [
      "\u001b[1;36m  Cell \u001b[1;32mIn[10], line 7\u001b[1;36m\u001b[0m\n\u001b[1;33m    Enterprise Picard,\u001b[0m\n\u001b[1;37m               ^\u001b[0m\n\u001b[1;31mSyntaxError\u001b[0m\u001b[1;31m:\u001b[0m invalid syntax\n"
     ]
    }
   ],
   "source": [
    "16.) # Which Python code could replace the ellipsis (...) below to get the following output? (Select all that apply.)\n",
    "captains = {\n",
    " \"Enterprise\": \"Picard\",\n",
    " \"Voyager\": \"Janeway\",\n",
    " \"Defiant\": \"Sisko\",\n",
    "}\n",
    "Enterprise Picard,\n",
    " Voyager Janeway,\n",
    " Defiant Sisko"
   ]
  },
  {
   "cell_type": "code",
   "execution_count": null,
   "id": "80ec4e7a",
   "metadata": {},
   "outputs": [],
   "source": [
    "17.) # Which of the following lines of code will create an empty dictionary named captains? = captains = {}"
   ]
  },
  {
   "cell_type": "code",
   "execution_count": null,
   "id": "30008423",
   "metadata": {},
   "outputs": [],
   "source": [
    "18.) Now you have your empty dictionary named captains. It’s time to add some data!\n",
    "Specifically, you want to add the key-value pairs \"Enterprise\": \"Picard\", \"Voyager\": \"Janeway\", \n",
    "and \"Defiant\": \"Sisko\".\n",
    "Which of the following code snippets will successfully add these key-value pairs to the \n",
    "existing captains dictionary?\n",
    "\n",
    "captains = {\n",
    " \"Enterprise\": \"Picard\",\n",
    " \"Voyager\": \"Janeway\",\n",
    " \"Defiant\": \"Sisko\",\n",
    "}\n",
    "\n",
    "-"
   ]
  },
  {
   "cell_type": "code",
   "execution_count": null,
   "id": "8dd5e767",
   "metadata": {},
   "outputs": [],
   "source": [
    "19.) You’re really building out the Federation Starfleet now! Here’s what you have:\n",
    "captains = {\n",
    " \"Enterprise\": \"Picard\",\n",
    " \"Voyager\": \"Janeway\",\n",
    " \"Defiant\": \"Sisko\",\n",
    " \"Discovery\": \"unknown\",\n",
    "}Now, say you want to display the ship and captain names contained in the dictionary, but you also \n",
    "want to provide some additional context. How could you do it?\n",
    "\n",
    "-"
   ]
  },
  {
   "cell_type": "code",
   "execution_count": null,
   "id": "9bf86c18",
   "metadata": {},
   "outputs": [],
   "source": [
    "20.) You’ve created a dictionary, added data, checked for the existence of keys, and iterated over it with \n",
    "a for loop. Now you’re ready to delete a key from this dictionary:\n",
    "captains = {\n",
    " \"Enterprise\": \"Picard\",\n",
    " \"Voyager\": \"Janeway\",\n",
    " \"Defiant\": \"Sisko\",\n",
    " \"Discovery\": \"unknown\",\n",
    "}\n",
    "\n",
    "- captains.remove()"
   ]
  }
 ],
 "metadata": {
  "kernelspec": {
   "display_name": "Python 3 (ipykernel)",
   "language": "python",
   "name": "python3"
  },
  "language_info": {
   "codemirror_mode": {
    "name": "ipython",
    "version": 3
   },
   "file_extension": ".py",
   "mimetype": "text/x-python",
   "name": "python",
   "nbconvert_exporter": "python",
   "pygments_lexer": "ipython3",
   "version": "3.10.9"
  }
 },
 "nbformat": 4,
 "nbformat_minor": 5
}
